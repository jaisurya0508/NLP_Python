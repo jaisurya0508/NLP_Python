{
 "cells": [
  {
   "cell_type": "markdown",
   "metadata": {},
   "source": [
    "## Week - 3 Accessing Text from Brown Corpus and State Union Corpus"
   ]
  },
  {
   "cell_type": "markdown",
   "metadata": {},
   "source": [
    "#### Exercise:1\n",
    "\n",
    "<b>Use the Brown corpus reader `nltk.corpus.brown.words()` or the Web text corpus reader `nltk.corpus.webtext.words()` \n",
    "to access some sample text in two different genres.</b>\n",
    "\n",
    "*The code below will randomly choose a category, and then randomly print five sentences from that category.*"
   ]
  },
  {
   "cell_type": "code",
   "execution_count": 1,
   "metadata": {},
   "outputs": [
    {
     "name": "stdout",
     "output_type": "stream",
     "text": [
      "[['At', 'another', 'phase', 'in', 'the', 'therapy', ',', 'when', 'a', 'pathogenic', 'mother-introject', 'began', 'to', 'emerge', 'more', 'and', 'more', 'upon', 'the', 'investigative', 'scene', ',', 'she', 'muttered', 'in', 'a', 'low', 'but', 'intense', 'voice', ',', 'to', 'herself', ',', '``', 'I', 'hate', 'that', 'woman', 'inside', 'me', \"''\", '!', '!'], ['I', 'could', 'evoke', 'no', 'further', 'elaboration', 'from', 'her', 'about', 'this', ';', ';'], ['but', 'a', 'few', 'seconds', 'later', 'she', 'was', 'standing', 'directly', 'across', 'the', 'room', 'from', 'me', ',', 'looking', 'me', 'in', 'the', 'eyes', 'and', 'saying', 'in', 'a', 'scathingly', 'condemnatory', 'tone', ',', '``', 'Your', 'father', 'despises', 'you', \"''\", '!', '!'], ['Again', ',', 'I', 'at', 'first', 'misconstrued', 'this', 'disconcertingly', 'intense', 'communication', ',', 'and', 'I', 'quickly', 'cast', 'through', 'my', 'mind', 'to', 'account', 'for', 'her', 'being', 'able', 'to', 'speak', ',', 'with', 'such', 'utter', 'conviction', ',', 'of', 'an', 'opinion', 'held', 'by', 'my', 'father', ',', 'now', 'several', 'years', 'deceased', '.'], ['Then', 'I', 'replied', ',', 'coldly', ',', '``', 'If', 'you', 'despise', 'me', ',', 'why', \"don't\", 'you', 'say', 'so', ',', 'directly', \"''\", '?', '?']]"
     ]
    }
   ],
   "source": [
    "from nltk.corpus import brown\n",
    "import random\n",
    "\n",
    "random_category = random.choice(brown.categories())\n",
    "random_place = random.randint(0, len(brown.sents(categories = random_category)) - 5)\n",
    "\n",
    "text = brown.sents(categories = random_category)[random_place:random_place + 5]\n",
    "print(text, end = '')"
   ]
  },
  {
   "cell_type": "markdown",
   "metadata": {},
   "source": [
    "*As you can see, the output doesn't look very nice.  We could try a list comprehension:*"
   ]
  },
  {
   "cell_type": "code",
   "execution_count": 2,
   "metadata": {},
   "outputs": [
    {
     "name": "stdout",
     "output_type": "stream",
     "text": [
      "[['At', 'another', 'phase', 'in', 'the', 'therapy', ',', 'when', 'a', 'pathogenic', 'mother-introject', 'began', 'to', 'emerge', 'more', 'and', 'more', 'upon', 'the', 'investigative', 'scene', ',', 'she', 'muttered', 'in', 'a', 'low', 'but', 'intense', 'voice', ',', 'to', 'herself', ',', '``', 'I', 'hate', 'that', 'woman', 'inside', 'me', \"''\", '!', '!'], ['I', 'could', 'evoke', 'no', 'further', 'elaboration', 'from', 'her', 'about', 'this', ';', ';'], ['but', 'a', 'few', 'seconds', 'later', 'she', 'was', 'standing', 'directly', 'across', 'the', 'room', 'from', 'me', ',', 'looking', 'me', 'in', 'the', 'eyes', 'and', 'saying', 'in', 'a', 'scathingly', 'condemnatory', 'tone', ',', '``', 'Your', 'father', 'despises', 'you', \"''\", '!', '!'], ['Again', ',', 'I', 'at', 'first', 'misconstrued', 'this', 'disconcertingly', 'intense', 'communication', ',', 'and', 'I', 'quickly', 'cast', 'through', 'my', 'mind', 'to', 'account', 'for', 'her', 'being', 'able', 'to', 'speak', ',', 'with', 'such', 'utter', 'conviction', ',', 'of', 'an', 'opinion', 'held', 'by', 'my', 'father', ',', 'now', 'several', 'years', 'deceased', '.'], ['Then', 'I', 'replied', ',', 'coldly', ',', '``', 'If', 'you', 'despise', 'me', ',', 'why', \"don't\", 'you', 'say', 'so', ',', 'directly', \"''\", '?', '?']]"
     ]
    }
   ],
   "source": [
    "print([w for w in text], end = '')"
   ]
  },
  {
   "cell_type": "markdown",
   "metadata": {},
   "source": [
    "*After much trial and error, I came to the conclusion that the best way to format tokenized text in a list is to attach the punctuation to its preceding string.I made slight changes to deal with the idiosyncracies of the sentences in the Brown Corpus:*"
   ]
  },
  {
   "cell_type": "code",
   "execution_count": 3,
   "metadata": {},
   "outputs": [],
   "source": [
    "def join_punctuation(text, characters = [\"'\", ')', ',', '.', ':', ';', '?', '!', ']', \"''\"]): \n",
    "    \"\"\"\n",
    "    Takes a list of strings and attaches punctuation to\n",
    "    the preceding string in the list.\n",
    "    \"\"\"\n",
    "    \n",
    "    text = iter(text)\n",
    "    current = next(text)\n",
    "\n",
    "    for nxt in text:\n",
    "        if nxt in characters:\n",
    "            current += nxt\n",
    "        else:\n",
    "            yield current\n",
    "            current = nxt\n",
    "            \n",
    "\n",
    "    yield current"
   ]
  },
  {
   "cell_type": "markdown",
   "metadata": {},
   "source": [
    "*The above function only works when the punctuation follows a string.  I needed to create a second function for those cases when the punctuation precedes a string.  Due to the pecularities of Python's `iter`, the below function will work for two successive punctuation marks in a row, but not more - however, the above function will work for an unlimited number of successive punctuation marks.*"
   ]
  },
  {
   "cell_type": "code",
   "execution_count": 4,
   "metadata": {},
   "outputs": [],
   "source": [
    "def join_brackets(text, characters = ['``', '(', '[']):\n",
    "    \"\"\"\n",
    "    Takes a list of strings and attaches punctuation to\n",
    "    the following string in the list. The maximum number of\n",
    "    successive punctuation marks is two.\n",
    "    \"\"\"    \n",
    "    text = iter(text)\n",
    "            \n",
    "    for s in text:\n",
    "        if s in characters:\n",
    "            yield s + next(text, '')\n",
    "        else:\n",
    "            yield s"
   ]
  },
  {
   "cell_type": "markdown",
   "metadata": {},
   "source": [
    "*There's another pecularity of the Brown Corpus that we have to deal with: for reasons I'm not aware of, many punctuation marks are duplicated.  This next function gets rid of that:*"
   ]
  },
  {
   "cell_type": "code",
   "execution_count": 5,
   "metadata": {},
   "outputs": [],
   "source": [
    "def remove_duplicate_punctuation(text):\n",
    "    seq = iter(text)\n",
    "    current = next(seq)\n",
    "    \n",
    "    for nxt in seq:\n",
    "        if nxt == current:\n",
    "            pass\n",
    "        else:\n",
    "            yield current\n",
    "            current = nxt\n",
    "            \n",
    "    yield current"
   ]
  },
  {
   "cell_type": "markdown",
   "metadata": {},
   "source": [
    "*There's a final issue with single quotes: In the Brown Corpus, there is a clear distinction between opening and closing double quotes ('``' vs. \"''\"), so it's clear whether the quotes should be attached to the preceding or following word. But single quotes lack this distinction, and at the moment they're always being attached to the previous word. This final function will switch the positions of \"'\" and \" \" on odd-numbered occurrences, but not on even-numbered occurrences.  I.e., if a single quote begins and ends within our sample, the quotes should be in the right positions.*"
   ]
  },
  {
   "cell_type": "code",
   "execution_count": 6,
   "metadata": {},
   "outputs": [],
   "source": [
    "def switch_quotes(text):\n",
    "    \"\"\"\n",
    "    Switches positions of single quotes and spaces on odd-numbered\n",
    "    occurrences.  Fixes an idiosyncracy that arises when formatting\n",
    "    text from the Brown Corpus.\n",
    "    \"\"\"\n",
    "    temp = list(text)\n",
    "    flag = False\n",
    "    for t in range(len(temp)):\n",
    "        if temp[t] == \"'\" and temp[t + 1] == \" \":\n",
    "            \n",
    "            # ignore two single quotes used as a double quote\n",
    "            if temp[t - 1] == \"'\":\n",
    "                pass\n",
    "            elif flag == False:\n",
    "                temp[t], temp[t + 1] = temp[t + 1], temp[t]\n",
    "                flag = True\n",
    "            else:\n",
    "                flag = False\n",
    "            \n",
    "    return ''.join(temp)"
   ]
  },
  {
   "cell_type": "markdown",
   "metadata": {},
   "source": [
    "*Finally, we'll encase everything in one function that will call the four functions above:*"
   ]
  },
  {
   "cell_type": "code",
   "execution_count": 7,
   "metadata": {},
   "outputs": [],
   "source": [
    "def clean_brown(text):\n",
    "    full_text = []\n",
    "    for t in text:\n",
    "        full_text.append(' '.join(join_brackets(join_punctuation(remove_duplicate_punctuation(t)))))\n",
    "    return switch_quotes(' '.join(full_text))"
   ]
  },
  {
   "cell_type": "code",
   "execution_count": 8,
   "metadata": {},
   "outputs": [
    {
     "data": {
      "text/plain": [
       "\"At another phase in the therapy, when a pathogenic mother-introject began to emerge more and more upon the investigative scene, she muttered in a low but intense voice, to herself, ``I hate that woman inside me''! I could evoke no further elaboration from her about this; but a few seconds later she was standing directly across the room from me, looking me in the eyes and saying in a scathingly condemnatory tone, ``Your father despises you''! Again, I at first misconstrued this disconcertingly intense communication, and I quickly cast through my mind to account for her being able to speak, with such utter conviction, of an opinion held by my father, now several years deceased. Then I replied, coldly, ``If you despise me, why don't you say so, directly''?\""
      ]
     },
     "execution_count": 8,
     "metadata": {},
     "output_type": "execute_result"
    }
   ],
   "source": [
    "clean_brown(text)"
   ]
  },
  {
   "cell_type": "code",
   "execution_count": 9,
   "metadata": {},
   "outputs": [
    {
     "data": {
      "text/plain": [
       "'1 St. John 14. If we are born of God we overcome the world. All that is born of God overcomes the world; and this is the victory that overcomes the world, our faith. 1 St. John 5: 4.'"
      ]
     },
     "execution_count": 9,
     "metadata": {},
     "output_type": "execute_result"
    }
   ],
   "source": [
    "# This looks much better than it did.  Let's try it again with another random text:\n",
    "random_category = random.choice(brown.categories())\n",
    "random_place = random.randint(0, len(brown.sents(categories = random_category)) - 5)\n",
    "\n",
    "text = [w for w in brown.sents(categories = random_category)[random_place:random_place + 5]]\n",
    "\n",
    "clean_brown(text)"
   ]
  },
  {
   "cell_type": "markdown",
   "metadata": {},
   "source": [
    "#### Exercise:2\n",
    "\n",
    "<b>Read in the texts of the State of the Union addresses, using the `state_union` corpus reader. Count occurrences of `men`, `women`, and `people` in each document. What has happened to the usage of these words over time?<b>"
   ]
  },
  {
   "cell_type": "code",
   "execution_count": 10,
   "metadata": {},
   "outputs": [],
   "source": [
    "import nltk\n",
    "%matplotlib inline\n",
    "from nltk.corpus import state_union"
   ]
  },
  {
   "cell_type": "code",
   "execution_count": 11,
   "metadata": {},
   "outputs": [],
   "source": [
    "cfd = nltk.ConditionalFreqDist(\n",
    "        (target, fileid[:4])\n",
    "        for fileid in state_union.fileids()\n",
    "        for w in state_union.words(fileid)\n",
    "        for target in ['men', 'women', 'people']\n",
    "        if w.lower().startswith(target))"
   ]
  },
  {
   "cell_type": "markdown",
   "metadata": {},
   "source": [
    "*There are too many documents here for us to put them in a table that will fit across the screen:*"
   ]
  },
  {
   "cell_type": "code",
   "execution_count": 12,
   "metadata": {},
   "outputs": [
    {
     "data": {
      "text/plain": [
       "65"
      ]
     },
     "execution_count": 12,
     "metadata": {},
     "output_type": "execute_result"
    }
   ],
   "source": [
    "len(state_union.fileids())"
   ]
  },
  {
   "cell_type": "markdown",
   "metadata": {},
   "source": [
    "*One option to deal with this is to use a sampling of one State of the Union from every four years.  This way, there will be approximately one address for each presidential term:*"
   ]
  },
  {
   "cell_type": "code",
   "execution_count": 13,
   "metadata": {},
   "outputs": [
    {
     "name": "stdout",
     "output_type": "stream",
     "text": [
      "       1945 1949 1953 1957 1961 1965 1969 1973 1977 1981 1985 1989 1993 1997 2001 2005 \n",
      "   men    2    2    5    7    6   22    5    1    2    3    1    4    1    1    6    8 \n",
      " women    2    1    0    2    0    3    2    0    1    1    1    3    2    2    6   11 \n",
      "people   10   18   20   17   13   30    6   10   20   11   12   13   45   31   27   18 \n"
     ]
    }
   ],
   "source": [
    "years = range(1945, 2007, 4)\n",
    "cfd.tabulate(samples = [str(y) for y in years], conditions = ['men', 'women', 'people'])"
   ]
  },
  {
   "cell_type": "code",
   "execution_count": 14,
   "metadata": {},
   "outputs": [
    {
     "data": {
      "image/png": "[encoded data removed]",
      "text/plain": [
       "<Figure size 1080x720 with 1 Axes>"
      ]
     },
     "metadata": {
      "needs_background": "light"
     },
     "output_type": "display_data"
    }
   ],
   "source": [
    "# to adjust the size of the plot\n",
    "import matplotlib.pyplot as plt\n",
    "\n",
    "plt.figure(figsize=(15, 10))\n",
    "cfd.plot();"
   ]
  },
  {
   "cell_type": "markdown",
   "metadata": {},
   "source": [
    "#### Exercise:3\n",
    "\n",
    "<b>Investigate the holonym-meronym relations for some nouns. Remember that there are three kinds of holonym-meronym relation, so you need to use: `member_meronyms()`, `part_meronyms()`, `substance_meronyms()`, `member_holonyms()`, `part_holonyms()`, and `substance_holonyms()`.<b>"
   ]
  },
  {
   "cell_type": "code",
   "execution_count": 15,
   "metadata": {},
   "outputs": [
    {
     "data": {
      "text/plain": [
       "['an educational institution',\n",
       " 'a building where young people receive education',\n",
       " 'the process of being formally educated at a school',\n",
       " 'a body of creative artists or writers or thinkers linked by a similar style or by similar teachers',\n",
       " 'the period of instruction in a school; the time period when school is in session',\n",
       " \"an educational institution's faculty and students\",\n",
       " 'a large group of fish',\n",
       " 'educate in or as if in a school',\n",
       " 'teach or refine to be discriminative in taste or judgment',\n",
       " 'swim in or form a large group of fish']"
      ]
     },
     "execution_count": 15,
     "metadata": {},
     "output_type": "execute_result"
    }
   ],
   "source": [
    "from nltk.corpus import wordnet as wn\n",
    "[s.definition() for s in wn.synsets('school')]"
   ]
  },
  {
   "cell_type": "code",
   "execution_count": 18,
   "metadata": {},
   "outputs": [
    {
     "data": {
      "text/plain": [
       "[Synset('schoolteacher.n.01'), Synset('staff.n.03')]"
      ]
     },
     "execution_count": 18,
     "metadata": {},
     "output_type": "execute_result"
    }
   ],
   "source": [
    "wn.synset('school.n.01').member_meronyms()"
   ]
  },
  {
   "cell_type": "markdown",
   "metadata": {},
   "source": [
    "*Of course, a school needs teachers, as well as staff.  But doesn't it seem odd that it's lacking students?  Let's try another example: 'team'.*"
   ]
  },
  {
   "cell_type": "code",
   "execution_count": 19,
   "metadata": {},
   "outputs": [
    {
     "data": {
      "text/plain": [
       "['a cooperative unit (especially in sports)',\n",
       " 'two or more draft animals that work together to pull something',\n",
       " 'form a team']"
      ]
     },
     "execution_count": 19,
     "metadata": {},
     "output_type": "execute_result"
    }
   ],
   "source": [
    "[s.definition() for s in wn.synsets('team')]"
   ]
  },
  {
   "cell_type": "code",
   "execution_count": 20,
   "metadata": {},
   "outputs": [
    {
     "data": {
      "text/plain": [
       "[Synset('stringer.n.01')]"
      ]
     },
     "execution_count": 20,
     "metadata": {},
     "output_type": "execute_result"
    }
   ],
   "source": [
    "wn.synset('team.n.01').member_meronyms()"
   ]
  },
  {
   "cell_type": "markdown",
   "metadata": {},
   "source": [
    "*So, \"stringer\"s are more essential to teams than players?  Interesting...*"
   ]
  },
  {
   "cell_type": "code",
   "execution_count": 22,
   "metadata": {},
   "outputs": [
    {
     "data": {
      "text/plain": [
       "[Synset('bench.n.06')]"
      ]
     },
     "execution_count": 22,
     "metadata": {},
     "output_type": "execute_result"
    }
   ],
   "source": [
    "wn.synset('team.n.01').part_meronyms()"
   ]
  },
  {
   "cell_type": "markdown",
   "metadata": {},
   "source": [
    "*I'm not too surprised that 'school's and 'team's don't have substances, but it was rather difficult to come up with non-chemical examples.*"
   ]
  },
  {
   "cell_type": "code",
   "execution_count": 24,
   "metadata": {},
   "outputs": [
    {
     "data": {
      "text/plain": [
       "[Synset('hydrogen.n.01'), Synset('oxygen.n.01')]"
      ]
     },
     "execution_count": 24,
     "metadata": {},
     "output_type": "execute_result"
    }
   ],
   "source": [
    "wn.synset('water.n.01').substance_meronyms()"
   ]
  },
  {
   "cell_type": "markdown",
   "metadata": {},
   "source": [
    "*Blood is made from serum?  Fascinating...*"
   ]
  },
  {
   "cell_type": "code",
   "execution_count": 25,
   "metadata": {},
   "outputs": [
    {
     "data": {
      "text/plain": [
       "[Synset('serum.n.01')]"
      ]
     },
     "execution_count": 25,
     "metadata": {},
     "output_type": "execute_result"
    }
   ],
   "source": [
    "wn.synset('blood.n.01').substance_meronyms()"
   ]
  },
  {
   "cell_type": "code",
   "execution_count": 27,
   "metadata": {},
   "outputs": [
    {
     "data": {
      "text/plain": [
       "['a person who participates in or is skilled at some game',\n",
       " 'someone who plays a musical instrument (as a profession)',\n",
       " 'a theatrical performer',\n",
       " 'a person who pursues a number of different social and sexual partners simultaneously',\n",
       " 'an important participant (as in a business deal)']"
      ]
     },
     "execution_count": 27,
     "metadata": {},
     "output_type": "execute_result"
    }
   ],
   "source": [
    "# Let's go the other way and see if we have more luck:\n",
    "[s.definition() for s in wn.synsets('player')]"
   ]
  },
  {
   "cell_type": "code",
   "execution_count": 28,
   "metadata": {},
   "outputs": [
    {
     "data": {
      "text/plain": [
       "[]"
      ]
     },
     "execution_count": 28,
     "metadata": {},
     "output_type": "execute_result"
    }
   ],
   "source": [
    "wn.synset('player.n.01').member_holonyms()"
   ]
  },
  {
   "cell_type": "code",
   "execution_count": 29,
   "metadata": {},
   "outputs": [
    {
     "data": {
      "text/plain": [
       "[]"
      ]
     },
     "execution_count": 29,
     "metadata": {},
     "output_type": "execute_result"
    }
   ],
   "source": [
    "wn.synset('player.n.01').part_holonyms()"
   ]
  },
  {
   "cell_type": "code",
   "execution_count": 31,
   "metadata": {},
   "outputs": [
    {
     "data": {
      "text/plain": [
       "['one of the persons who compose a social group (especially individuals who have joined and participate in a group organization)',\n",
       " 'anything that belongs to a set or class',\n",
       " 'an external body part that projects from the body',\n",
       " 'an organization that is a member of another organization (especially a state that belongs to a group of nations)',\n",
       " \"the male organ of copulation (`member' is a euphemism)\"]"
      ]
     },
     "execution_count": 31,
     "metadata": {},
     "output_type": "execute_result"
    }
   ],
   "source": [
    "# Interesting - let's see if `member` is a member of any holonyms\n",
    "[s.definition() for s in wn.synsets('member')]"
   ]
  },
  {
   "cell_type": "code",
   "execution_count": 32,
   "metadata": {},
   "outputs": [
    {
     "data": {
      "text/plain": [
       "[]"
      ]
     },
     "execution_count": 32,
     "metadata": {},
     "output_type": "execute_result"
    }
   ],
   "source": [
    "wn.synset('member.n.01').member_holonyms()"
   ]
  },
  {
   "cell_type": "markdown",
   "metadata": {},
   "source": [
    "*Amazing.  The maintainers of WordNet found it necessary to remark that 'member' can be slang for a penis, but not that 'member' can be, well, a member of anything.*\n",
    "\n",
    "*Let's keep on trying.  After about five tries, I finally found a word that had a `part_holonym`:*"
   ]
  },
  {
   "cell_type": "code",
   "execution_count": 33,
   "metadata": {},
   "outputs": [
    {
     "data": {
      "text/plain": [
       "[Synset('animalia.n.01')]"
      ]
     },
     "execution_count": 33,
     "metadata": {},
     "output_type": "execute_result"
    }
   ],
   "source": [
    "wn.synset('animal.n.01').member_holonyms()"
   ]
  },
  {
   "cell_type": "markdown",
   "metadata": {},
   "source": [
    "*But it was easier to find a __substance holonym__ than __substance meronym__.*"
   ]
  },
  {
   "cell_type": "code",
   "execution_count": 34,
   "metadata": {},
   "outputs": [
    {
     "data": {
      "text/plain": [
       "[Synset('body_of_water.n.01'),\n",
       " Synset('ice.n.01'),\n",
       " Synset('ice_crystal.n.01'),\n",
       " Synset('perspiration.n.01'),\n",
       " Synset('snowflake.n.01'),\n",
       " Synset('tear.n.01')]"
      ]
     },
     "execution_count": 34,
     "metadata": {},
     "output_type": "execute_result"
    }
   ],
   "source": [
    "wn.synset('water.n.01').substance_holonyms()"
   ]
  },
  {
   "cell_type": "markdown",
   "metadata": {},
   "source": [
    "#### Exercise:4. \n",
    "\n",
    "<b>Define a function `supergloss(s)` that takes a synset `s` as its argument and returns a string consisting of the concatenation of the definition of `s`, and the definitions of all the hypernyms and hyponyms of `s`.<b>"
   ]
  },
  {
   "cell_type": "code",
   "execution_count": 35,
   "metadata": {},
   "outputs": [],
   "source": [
    "def supergloss(synset):\n",
    "    \"\"\"\n",
    "    Prints a concatentation of a word and its definition, \n",
    "    along with the definitions of all of the word's hyper- and\n",
    "    hyponyms.\n",
    "    \"\"\"\n",
    "    full_stop = synset.index('.')\n",
    "    term = synset[:full_stop]\n",
    "    \n",
    "    syn = wn.synset(synset)\n",
    "    print(term + \":\", syn.definition())\n",
    "    \n",
    "    \n",
    "    print(\"\\nHYPERNYMS:\")\n",
    "    for s in syn.hypernyms():\n",
    "        names = []\n",
    "        for name in s.lemma_names():\n",
    "            names.append(name)\n",
    "        print(\", \".join(names) + \":\", s.definition())\n",
    "\n",
    "    print(\"\\nHYPONYMS:\")\n",
    "    for s in syn.hyponyms():\n",
    "        names = []\n",
    "        for name in s.lemma_names():\n",
    "            names.append(name)\n",
    "        print(\", \".join(names) + \":\", s.definition())"
   ]
  },
  {
   "cell_type": "code",
   "execution_count": 36,
   "metadata": {},
   "outputs": [
    {
     "name": "stdout",
     "output_type": "stream",
     "text": [
      "drum: a musical percussion instrument; usually consists of a hollow cylinder with a membrane stretched across each end\n",
      "\n",
      "HYPERNYMS:\n",
      "percussion_instrument, percussive_instrument: a musical instrument in which the sound is produced by one object striking another\n",
      "\n",
      "HYPONYMS:\n",
      "bass_drum, gran_casa: a large drum with two heads; makes a sound of indefinite but very low pitch\n",
      "bongo, bongo_drum: a small drum; played with the hands\n",
      "snare_drum, snare, side_drum: a small drum with two heads and a snare stretched across the lower head\n",
      "tabor, tabour: a small drum with one head of soft calfskin\n",
      "tambour: a drum\n",
      "tambourine: a shallow drum with a single drumhead and with metallic disks in the sides\n",
      "tenor_drum, tom-tom: any of various drums with small heads\n",
      "timbrel: small hand drum similar to a tambourine; formerly carried by itinerant jugglers\n"
     ]
    }
   ],
   "source": [
    "supergloss('drum.n.01')"
   ]
  },
  {
   "cell_type": "markdown",
   "metadata": {},
   "source": [
    "#### Exercise:5 \n",
    "\n",
    "<b>The polysemy of a word is the number of senses it has. Using WordNet, we can determine that the noun dog has 7 senses with: `len(wn.synsets('dog', 'n'))`. Compute the average polysemy of nouns, verbs, adjectives and adverbs according to WordNet.</b>\n",
    "\n",
    "*We can get all the items for a part of speech by using `list(wn.all_synsets('v'))`.  However, the items in this list can be of differing lengths:*"
   ]
  },
  {
   "cell_type": "code",
   "execution_count": 37,
   "metadata": {},
   "outputs": [
    {
     "name": "stdout",
     "output_type": "stream",
     "text": [
      "['breathe', 'take_a_breath', 'respire', 'suspire']\n",
      "['respire']\n",
      "['respire']\n",
      "['choke']\n",
      "['hyperventilate']\n"
     ]
    }
   ],
   "source": [
    "l = list(wn.all_synsets('v'))\n",
    "for syn in l[:5]:\n",
    "    print(syn.lemma_names())"
   ]
  },
  {
   "cell_type": "markdown",
   "metadata": {},
   "source": [
    "*And it would be inaccurate to assume that the various entries for a given item have the same number of senses:*"
   ]
  },
  {
   "cell_type": "code",
   "execution_count": 38,
   "metadata": {},
   "outputs": [
    {
     "data": {
      "text/plain": [
       "9"
      ]
     },
     "execution_count": 38,
     "metadata": {},
     "output_type": "execute_result"
    }
   ],
   "source": [
    "len(wn.synsets('breathe', 'v'))"
   ]
  },
  {
   "cell_type": "code",
   "execution_count": 39,
   "metadata": {},
   "outputs": [
    {
     "data": {
      "text/plain": [
       "1"
      ]
     },
     "execution_count": 39,
     "metadata": {},
     "output_type": "execute_result"
    }
   ],
   "source": [
    "len(wn.synsets('take_a_breath', 'v'))"
   ]
  },
  {
   "cell_type": "markdown",
   "metadata": {},
   "source": [
    "*So we need to get all the entries for each item.*\n",
    "\n",
    "*Also remark that the word `respire` appears twice.  Seeing one word twice in such a small samples indicates that it's likely that there are many more duplicates in this list of items, and counting duplicates multiple times will throw off our counts.*"
   ]
  },
  {
   "cell_type": "code",
   "execution_count": 40,
   "metadata": {},
   "outputs": [
    {
     "name": "stdout",
     "output_type": "stream",
     "text": [
      "The average polysemy for the nouns in WordNet is 1.28336.\n",
      "The average polysemy for the verbs in WordNet is 2.18663.\n",
      "The average polysemy for the adjectives in WordNet is 1.41048.\n",
      "The average polysemy for the adverbs in WordNet is 1.25329.\n"
     ]
    }
   ],
   "source": [
    "pos = ['nouns', 'verbs', 'adjectives', 'adverbs']\n",
    "abb = ['n', 'v', 'a', 'r']\n",
    "ave_poly = []\n",
    "\n",
    "for i in range(len(pos)):\n",
    "    # get all items for this part of speech\n",
    "    syn_list = list(wn.all_synsets(abb[i]))  \n",
    "    \n",
    "    entries = []\n",
    "    for syn in syn_list:\n",
    "        # some items have more than one entry, so we need to\n",
    "        # make sure all entries are accounted for\n",
    "        for entry in syn.lemma_names():\n",
    "            entries.append(entry)\n",
    "     \n",
    "    # if a word has x senses, it will be in this list x times, \n",
    "    # so we need to get rid of duplicates   \n",
    "    entries = set(entries)\n",
    "    \n",
    "    # tally of senses for this pos\n",
    "    polysemy = 0\n",
    "    \n",
    "    # iterate through entries and add number of senses\n",
    "    for entry in set(entries):\n",
    "        polysemy += len(wn.synsets(entry, abb[i]))\n",
    "            \n",
    "    \n",
    "    ave_poly.append(polysemy/len(entries))  \n",
    "    \n",
    "for i in range(len(pos)):\n",
    "    print(\"The average polysemy for the {} in WordNet is {:.5f}.\".format(pos[i], ave_poly[i]))\n",
    "    "
   ]
  }
 ],
 "metadata": {
  "kernelspec": {
   "display_name": "Python 3",
   "language": "python",
   "name": "python3"
  },
  "language_info": {
   "codemirror_mode": {
    "name": "ipython",
    "version": 3
   },
   "file_extension": ".py",
   "mimetype": "text/x-python",
   "name": "python",
   "nbconvert_exporter": "python",
   "pygments_lexer": "ipython3",
   "version": "3.6.4"
  }
 },
 "nbformat": 4,
 "nbformat_minor": 2
}
