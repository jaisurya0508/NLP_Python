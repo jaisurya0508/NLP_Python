{
  "nbformat": 4,
  "nbformat_minor": 0,
  "metadata": {
    "colab": {
      "name": "Diabetics_bot.ipynb",
      "provenance": [],
      "collapsed_sections": []
    },
    "kernelspec": {
      "name": "python3",
      "display_name": "Python 3"
    }
  },
  "cells": [
    {
      "cell_type": "code",
      "metadata": {
        "id": "aF9HYA9C6GQE"
      },
      "source": [
        "import nltk\n"
      ],
      "execution_count": 1,
      "outputs": []
    },
    {
      "cell_type": "code",
      "metadata": {
        "id": "e2BTbVs06hmm",
        "colab": {
          "base_uri": "https://localhost:8080/"
        },
        "outputId": "d14d352a-b2fc-4e4e-93c3-b705ba9c25e9"
      },
      "source": [
        "pip install newspaper3k"
      ],
      "execution_count": 2,
      "outputs": [
        {
          "output_type": "stream",
          "text": [
            "Collecting newspaper3k\n",
            "\u001b[?25l  Downloading https://files.pythonhosted.org/packages/d7/b9/51afecb35bb61b188a4b44868001de348a0e8134b4dfa00ffc191567c4b9/newspaper3k-0.2.8-py3-none-any.whl (211kB)\n",
            "\u001b[K     |████████████████████████████████| 215kB 5.8MB/s \n",
            "\u001b[?25hCollecting jieba3k>=0.35.1\n",
            "\u001b[?25l  Downloading https://files.pythonhosted.org/packages/a9/cb/2c8332bcdc14d33b0bedd18ae0a4981a069c3513e445120da3c3f23a8aaa/jieba3k-0.35.1.zip (7.4MB)\n",
            "\u001b[K     |████████████████████████████████| 7.4MB 22.9MB/s \n",
            "\u001b[?25hCollecting tinysegmenter==0.3\n",
            "  Downloading https://files.pythonhosted.org/packages/17/82/86982e4b6d16e4febc79c2a1d68ee3b707e8a020c5d2bc4af8052d0f136a/tinysegmenter-0.3.tar.gz\n",
            "Collecting feedparser>=5.2.1\n",
            "\u001b[?25l  Downloading https://files.pythonhosted.org/packages/1c/21/faf1bac028662cc8adb2b5ef7a6f3999a765baa2835331df365289b0ca56/feedparser-6.0.2-py3-none-any.whl (80kB)\n",
            "\u001b[K     |████████████████████████████████| 81kB 8.3MB/s \n",
            "\u001b[?25hCollecting tldextract>=2.0.1\n",
            "\u001b[?25l  Downloading https://files.pythonhosted.org/packages/7e/62/b6acd3129c5615b9860e670df07fd55b76175b63e6b7f68282c7cad38e9e/tldextract-3.1.0-py2.py3-none-any.whl (87kB)\n",
            "\u001b[K     |████████████████████████████████| 92kB 9.8MB/s \n",
            "\u001b[?25hCollecting feedfinder2>=0.0.4\n",
            "  Downloading https://files.pythonhosted.org/packages/35/82/1251fefec3bb4b03fd966c7e7f7a41c9fc2bb00d823a34c13f847fd61406/feedfinder2-0.0.4.tar.gz\n",
            "Requirement already satisfied: beautifulsoup4>=4.4.1 in /usr/local/lib/python3.6/dist-packages (from newspaper3k) (4.6.3)\n",
            "Requirement already satisfied: Pillow>=3.3.0 in /usr/local/lib/python3.6/dist-packages (from newspaper3k) (7.0.0)\n",
            "Collecting cssselect>=0.9.2\n",
            "  Downloading https://files.pythonhosted.org/packages/3b/d4/3b5c17f00cce85b9a1e6f91096e1cc8e8ede2e1be8e96b87ce1ed09e92c5/cssselect-1.1.0-py2.py3-none-any.whl\n",
            "Requirement already satisfied: requests>=2.10.0 in /usr/local/lib/python3.6/dist-packages (from newspaper3k) (2.23.0)\n",
            "Requirement already satisfied: PyYAML>=3.11 in /usr/local/lib/python3.6/dist-packages (from newspaper3k) (3.13)\n",
            "Requirement already satisfied: python-dateutil>=2.5.3 in /usr/local/lib/python3.6/dist-packages (from newspaper3k) (2.8.1)\n",
            "Requirement already satisfied: nltk>=3.2.1 in /usr/local/lib/python3.6/dist-packages (from newspaper3k) (3.2.5)\n",
            "Requirement already satisfied: lxml>=3.6.0 in /usr/local/lib/python3.6/dist-packages (from newspaper3k) (4.2.6)\n",
            "Collecting sgmllib3k\n",
            "  Downloading https://files.pythonhosted.org/packages/9e/bd/3704a8c3e0942d711c1299ebf7b9091930adae6675d7c8f476a7ce48653c/sgmllib3k-1.0.0.tar.gz\n",
            "Requirement already satisfied: idna in /usr/local/lib/python3.6/dist-packages (from tldextract>=2.0.1->newspaper3k) (2.10)\n",
            "Collecting requests-file>=1.4\n",
            "  Downloading https://files.pythonhosted.org/packages/77/86/cdb5e8eaed90796aa83a6d9f75cfbd37af553c47a291cd47bc410ef9bdb2/requests_file-1.5.1-py2.py3-none-any.whl\n",
            "Requirement already satisfied: filelock>=3.0.8 in /usr/local/lib/python3.6/dist-packages (from tldextract>=2.0.1->newspaper3k) (3.0.12)\n",
            "Requirement already satisfied: six in /usr/local/lib/python3.6/dist-packages (from feedfinder2>=0.0.4->newspaper3k) (1.15.0)\n",
            "Requirement already satisfied: chardet<4,>=3.0.2 in /usr/local/lib/python3.6/dist-packages (from requests>=2.10.0->newspaper3k) (3.0.4)\n",
            "Requirement already satisfied: urllib3!=1.25.0,!=1.25.1,<1.26,>=1.21.1 in /usr/local/lib/python3.6/dist-packages (from requests>=2.10.0->newspaper3k) (1.24.3)\n",
            "Requirement already satisfied: certifi>=2017.4.17 in /usr/local/lib/python3.6/dist-packages (from requests>=2.10.0->newspaper3k) (2020.11.8)\n",
            "Building wheels for collected packages: jieba3k, tinysegmenter, feedfinder2, sgmllib3k\n",
            "  Building wheel for jieba3k (setup.py) ... \u001b[?25l\u001b[?25hdone\n",
            "  Created wheel for jieba3k: filename=jieba3k-0.35.1-cp36-none-any.whl size=7398406 sha256=2112cd967494d9c6b073aec96c486299ef06a32f3d180840e57f1d2e548613d3\n",
            "  Stored in directory: /root/.cache/pip/wheels/83/15/9c/a3f1f67e7f7181170ad37d32e503c35da20627c013f438ed34\n",
            "  Building wheel for tinysegmenter (setup.py) ... \u001b[?25l\u001b[?25hdone\n",
            "  Created wheel for tinysegmenter: filename=tinysegmenter-0.3-cp36-none-any.whl size=13538 sha256=a8009bd12fc06ed724df6bdf4aed6b33c4547888047b07e758bb1d8684acb77a\n",
            "  Stored in directory: /root/.cache/pip/wheels/81/2b/43/a02ede72324dd40cdd7ca53aad718c7710628e91b8b0dc0f02\n",
            "  Building wheel for feedfinder2 (setup.py) ... \u001b[?25l\u001b[?25hdone\n",
            "  Created wheel for feedfinder2: filename=feedfinder2-0.0.4-cp36-none-any.whl size=3355 sha256=4de8d05fe62fe42fbabe2cec61ce841f0314a553f83984a54620ad3cca43ba6e\n",
            "  Stored in directory: /root/.cache/pip/wheels/de/03/ca/778e3a7a627e3d98836cc890e7cb40c7575424cfd3340f40ed\n",
            "  Building wheel for sgmllib3k (setup.py) ... \u001b[?25l\u001b[?25hdone\n",
            "  Created wheel for sgmllib3k: filename=sgmllib3k-1.0.0-cp36-none-any.whl size=6067 sha256=2315b6c80566ea9c23244a0dd6070f00190b1c443b8189453ac3a28566ad8886\n",
            "  Stored in directory: /root/.cache/pip/wheels/f1/80/5a/444ba08a550cdd241bd9baf8bae44be750efe370adb944506a\n",
            "Successfully built jieba3k tinysegmenter feedfinder2 sgmllib3k\n",
            "Installing collected packages: jieba3k, tinysegmenter, sgmllib3k, feedparser, requests-file, tldextract, feedfinder2, cssselect, newspaper3k\n",
            "Successfully installed cssselect-1.1.0 feedfinder2-0.0.4 feedparser-6.0.2 jieba3k-0.35.1 newspaper3k-0.2.8 requests-file-1.5.1 sgmllib3k-1.0.0 tinysegmenter-0.3 tldextract-3.1.0\n"
          ],
          "name": "stdout"
        }
      ]
    },
    {
      "cell_type": "code",
      "metadata": {
        "id": "AVryqI6r6uDu"
      },
      "source": [
        "#Import libraries\n",
        "\n",
        "from newspaper import Article\n",
        "import random\n",
        "import string\n",
        "import nltk\n",
        "from sklearn.feature_extraction.text import CountVectorizer\n",
        "from sklearn.metrics.pairwise import cosine_similarity\n",
        "import numpy as np\n",
        "import warnings\n",
        "warnings.filterwarnings('ignore')"
      ],
      "execution_count": 3,
      "outputs": []
    },
    {
      "cell_type": "code",
      "metadata": {
        "id": "QvNmRbA47dzu",
        "colab": {
          "base_uri": "https://localhost:8080/"
        },
        "outputId": "f25452f5-a158-45ff-ecb1-2d8bab498a7b"
      },
      "source": [
        "#DOwnload the punk package\n",
        "nltk.download('punkt',quiet=True)"
      ],
      "execution_count": 4,
      "outputs": [
        {
          "output_type": "execute_result",
          "data": {
            "text/plain": [
              "True"
            ]
          },
          "metadata": {
            "tags": []
          },
          "execution_count": 4
        }
      ]
    },
    {
      "cell_type": "code",
      "metadata": {
        "id": "Xass7OtP7rjm"
      },
      "source": [
        "#get the article\n",
        "article=Article('https://www.medicalnewstoday.com/articles/317484#takeaway')\n",
        "article.download()\n",
        "article.parse()\n",
        "article.nlp()\n",
        "corpus=article.text"
      ],
      "execution_count": 5,
      "outputs": []
    },
    {
      "cell_type": "code",
      "metadata": {
        "id": "0jlw-pwU9Hfv",
        "colab": {
          "base_uri": "https://localhost:8080/"
        },
        "outputId": "28dd7748-354f-47a5-8df1-1d9fb0bf14f5"
      },
      "source": [
        "#print the article text\n",
        "print(corpus)"
      ],
      "execution_count": 6,
      "outputs": [
        {
          "output_type": "stream",
          "text": [
            "RECALL OF METFORMIN EXTENDED RELEASE In May 2020, the Food and Drug Administration (FDA) recommended that some makers of metformin extended release remove some of their tablets from the U.S. market. This is because an unacceptable level of a probable carcinogen (cancer-causing agent) was found in some extended-release metformin tablets. If you currently take this drug, call your healthcare provider. They will advise whether you should continue to take your medication or if you need a new prescription. Diabetes develops when the body does not produce enough insulin or cannot respond to it appropriately, leading to high levels of sugar in the blood. Managing blood sugar levels can be challenging, but ongoing research is increasing the chance of living a full life with diabetes. In the past, type 1 diabetes was always fatal within months or even weeks. The introduction of insulin as a treatment changed this. There is still no cure for diabetes, but newer drugs and an awareness of possible causes have further improved the outlook for people with this condition. In this article, we look at the history of diabetes, how its treatment has progressed, and current developments.\n",
            "\n",
            "The early science of diabetes Understanding the history of diabetes and its early treatment can help us appreciate how far the understanding and treatment of this condition have come. Discovery of diabetes Share on Pinterest Joseph von Mering (pictured) and Oskar Minkowski are credited with discovering in 1899 that the removal of the pancreas from a dog allowed it to develop diabetes.\n",
            "\n",
            "Image credit: PD-US Over 3,000 years ago, the ancient Egyptians mentioned a condition that appears to have been type 1 diabetes. It featured excessive urination, thirst, and weight loss. The writers recommended following a diet of whole grains to reduce the symptoms. In ancient India, people discovered that they could use ants to test for diabetes by presenting urine to them. If the ants came to the urine, this was a sign that it contained high sugar levels. They called the condition madhumeha, meaning honey urine. During the third century B.C.E., Apollonius of Memphis mentioned the term “diabetes,” which may have been its earliest reference. In time, Greek physicians also distinguished between diabetes mellitus and diabetes insipidus. Diabetes insipidus has no link with diabetes mellitus. While it also leads to thirst and urination, it does not affect the body’s production or use of insulin. Diabetes insipidus results from a problem with a hormone called vasopressin that the pituitary gland produces. The ancient Roman doctor Galen mentioned diabetes but noted that he had only ever seen two people with it, which suggests that it was relatively rare in those days. By the fifth century C.E., people in India and China had worked out that there was a difference between type 1 and type 2 diabetes. They noted that type 2 diabetes was more common in heavy, wealthy people than in other people. At that time, this might have implied that these individuals ate more than other people and were less active. Nowadays, the ready supply of processed food has weakened the association between wealth and eating more, but obesity, diet, and a lack of exercise are still risk factors for type 2 diabetes. The term diabetes mellitus comes from the Greek word “diabetes” (to siphon or pass through) and the Latin word “mellitus” (honey or sweet). In the Middle Ages, people believed that diabetes was a disease of the kidneys, but an English doctor in the late 18th century found that it occurred in people who had experienced an injury to the pancreas. In 1776, Matthew Dobson confirmed that the urine of people with diabetes could have a sweet taste. According to an article that the journal Medical Observations and Enquiries published, he measured the glucose in urine and found that it was high in people with diabetes. Dobson also noted that diabetes could be fatal in some people but chronic in others, further clarifying the differences between type 1 and type 2. By the early 19th century, there were no statistics about how common diabetes was, there was no effective treatment, and people usually died within weeks to months of first showing symptoms.\n",
            "\n",
            "Early treatments The early Greek physicians recommended treating diabetes with exercise, if possible, on horseback. They believed that this activity would reduce the need for excessive urination. Other treatment options have included: a “nonirritating” milk-and-carb diet, for example, milk with rice and starchy, gummy foods “to thicken the blood and supply salts” or milk and barley water boiled with bread\n",
            "\n",
            "powders of fenugreek, lupin, and wormseed\n",
            "\n",
            "narcotics, such as opium\n",
            "\n",
            "foods that are “easy of digestion,” such as veal and mutton\n",
            "\n",
            "rancid animal food\n",
            "\n",
            "tobacco\n",
            "\n",
            "green vegetables\n",
            "\n",
            "a carb-free diet\n",
            "\n",
            "fasting One doctor recommended a diet consisting of 65 percent fat, 32 percent protein, and 3 percent carbohydrate. However, he advised avoiding fruits and garden produce. Various experts have also recommended several chemicals and drugs, including ammonium sulfide, digitalis, magnesia, chalk, lithium salts, and potassium salts. Doctors did not always agree on which diet or drugs to use as a treatment. Some also recommended lifestyle measures, such as: exercising\n",
            "\n",
            "wearing warm clothing\n",
            "\n",
            "taking baths, including cold baths and Turkish baths\n",
            "\n",
            "avoiding stress\n",
            "\n",
            "wearing flannel or silk near the skin\n",
            "\n",
            "getting massages These ways of managing diabetes did not prove particularly effective, and people with this condition experienced severe health problems.\n",
            "\n",
            "The pancreas, insulin, and insulin resistance Share on Pinterest Sir Frederick Grant Banting (pictured), alongside Charles Herbert Best, demonstrated the reversal of diabetes in a dog using insulin in 1921.\n",
            "\n",
            "Image credit: Wellcome images In 1889, Joseph von Mering and Oskar Minkowski found that removing the pancreas from dogs led them to develop diabetes and die shortly afterward. This discovery helped scientists understand the role of the pancreas in regulating blood sugar levels. In 1910, Sir Edward Albert Sharpey-Schafer proposed that diabetes developed when there was a lack of a particular chemical that the pancreas produced. He called it insulin, meaning island, because the cells in the islets of Langerhans in the pancreas produce it. In 1921, Frederick Banting and Charles Best introduced an extract of pancreatic islet cells from healthy dogs into dogs with diabetes. Doing this reversed diabetes and marked the discovery of the hormone insulin. They worked with two other scientists to purify insulin that they took from the pancreas of cows and produce the first treatment for diabetes. In January 1922, 14-year-old Leonard Thompson was the first person to receive an injection of insulin to treat diabetes. Thompson lived another 13 years with the condition and eventually died of pneumonia. Understanding insulin resistance In 1936, Sir Harold Percival Himsworth published research that differentiated between type 1 and type 2 diabetes. He theorized that many people had insulin resistance rather than insulin deficiency. Insulin resistance is one factor that leads to type 2 diabetes. When a person has insulin resistance, their body cells lose their sensitivity to insulin and are not able to take in glucose. In response, the pancreas increases its output of insulin. As this continues to happen, it puts stress on the pancreas, resulting in damage to this organ.\n",
            "\n",
            "Modern treatment People with type 1 diabetes and some people with type 2 diabetes need to use insulin every day. People continued to use injectable animal-based insulin for many years, but recent years have seen further advances in treatment. These include the introduction of insulin analogs and the development of new ways to deliver insulin. Both of these factors have made diabetes treatment more effective. Human insulin In 1978, scientists created the first human-based insulin, which they named Humulin. Humulin is identical in structure to human insulin. Lispro, the first short-acting insulin, appeared on the market in 1996. Lispro begins to work about 15 minutes after injection and keeps working for 2–4 hours. Long-acting insulins, such as insulin glargine, take longer to absorb and remain active for up to 24 hours. People who use insulin tend to combine long- and short-acting types. The long-acting dose works throughout the day, while the short-acting dose boosts insulin levels around mealtimes. Insulin delivery systems Share on Pinterest Nowadays, it is normal for people to manage diabetes at home. Over time, not only have new forms of insulin become available, but there are also new methods of delivery. In the 1980s, the first blood glucose monitors became available for home use, providing an accurate way to monitor blood sugar. People who use insulin have to measure their glucose levels to determine how much insulin they need and how well their treatment is working. In 1986, the insulin pen delivery system appeared. These prefilled syringes, which come in specific measures, are a safe and convenient way of delivering the required dose of insulin. The 1990s saw the invention of external insulin pumps, which, with correct use, can provide: better results\n",
            "\n",
            "more flexibility\n",
            "\n",
            "easier treatment management These and other inventions help people manage their condition themselves. By increasing their awareness and skills, people can take more control over their health and feel more confident that they are managing their condition.\n",
            "\n",
            "Non-insulin treatment Not everyone with type 2 diabetes uses insulin. Research has increasingly shown that a healthful diet is crucial for preventing and managing type 2 diabetes. Ongoing research is investigating the most appropriate diet to follow and the role of other lifestyle factors, such as cigarette smoking, stress, and sleep. Non-insulin medications A number of non-insulin therapies for diabetes emerged during the 20th century. People can take each of these by mouth. They include: Metformin: The discovery of metformin stemmed from the use of Galega officinalis (also known as goat’s rue or French lilac) as a medieval treatment for diabetes. Metformin is a biguanide. Scientists developed several biguanides during the 19th century, but they either had severe side effects or did not reach the market. Metformin became available in the United States in 1995. Sulfonylureas: These contain a type of chemical called sulfonamides, some of which can reduce blood sugar. Carbutamide became available in 1955, and since then, other sulfonylureas have appeared. Pramlintide: Doctors sometimes prescribe this drug for people with type 1 diabetes to slow the rate at which the stomach empties, reduce glucagon secretions from the pancreas, and help a person feel full. In this way, it can help with weight loss and reduce the amount of insulin that a person needs. Sodium-glucose cotransporter 2 (SGLT2) inhibitors: These reduce blood glucose independently of insulin by decreasing the amount of glucose that the body absorbs. They can also help lower blood pressure and body weight. Current guidelines recommend that doctors prescribe them for people with type 2 diabetes who have a risk of atherosclerotic cardiovascular disease. The Food and Drug Administration (FDA) have not approved them for the treatment of type 1 diabetes. Glucagon-like peptide 1 (GLP-1) receptor inhibitors: These can reduce glucose levels in the body and lower the risk of cardiovascular disease in people with type 2 diabetes who are at high risk of a heart attack or stroke. The FDA have not approved them for treating type 1 diabetes. People can take these medications by mouth or in the form of an injection. Since 1996, a range of oral medications have emerged that can treat diabetes and its complications. Newer medications include both oral and injectable medicines.\n",
            "\n",
            "Future possibilities Scientists are looking into various options that may help people with diabetes in the future. Immunotherapy: The American Diabetes Association (ADA) have funded several research projects, including one that is attempting to identify the possible trigger for type 1 diabetes, which doctors believe relates to a problem with the immune system. Artificial pancreas: Another emerging treatment option is the artificial pancreas. The device, which some refer to as closed-loop glucose control, involves using an external pump and continuous glucose monitoring to deliver insulin in a single system. It uses a control algorithm and automatically adjusts the dose according to readings from sensors. In 2018, researchers writing in the BMJ concluded that the artificial pancreas is “efficacious and safe” for people with type 1 diabetes to use.\n"
          ],
          "name": "stdout"
        }
      ]
    },
    {
      "cell_type": "code",
      "metadata": {
        "id": "dQGMT2JHBNIg"
      },
      "source": [
        "#tokenization\n",
        "text=corpus\n",
        "sentence_list=nltk.sent_tokenize(text)"
      ],
      "execution_count": 7,
      "outputs": []
    },
    {
      "cell_type": "code",
      "metadata": {
        "id": "K5ti_H23BZLX",
        "colab": {
          "base_uri": "https://localhost:8080/"
        },
        "outputId": "218295a7-ca90-4cb4-ef7a-752c2a01cd18"
      },
      "source": [
        "print(sentence_list)"
      ],
      "execution_count": 8,
      "outputs": [
        {
          "output_type": "stream",
          "text": [
            "['RECALL OF METFORMIN EXTENDED RELEASE In May 2020, the Food and Drug Administration (FDA) recommended that some makers of metformin extended release remove some of their tablets from the U.S. market.', 'This is because an unacceptable level of a probable carcinogen (cancer-causing agent) was found in some extended-release metformin tablets.', 'If you currently take this drug, call your healthcare provider.', 'They will advise whether you should continue to take your medication or if you need a new prescription.', 'Diabetes develops when the body does not produce enough insulin or cannot respond to it appropriately, leading to high levels of sugar in the blood.', 'Managing blood sugar levels can be challenging, but ongoing research is increasing the chance of living a full life with diabetes.', 'In the past, type 1 diabetes was always fatal within months or even weeks.', 'The introduction of insulin as a treatment changed this.', 'There is still no cure for diabetes, but newer drugs and an awareness of possible causes have further improved the outlook for people with this condition.', 'In this article, we look at the history of diabetes, how its treatment has progressed, and current developments.', 'The early science of diabetes Understanding the history of diabetes and its early treatment can help us appreciate how far the understanding and treatment of this condition have come.', 'Discovery of diabetes Share on Pinterest Joseph von Mering (pictured) and Oskar Minkowski are credited with discovering in 1899 that the removal of the pancreas from a dog allowed it to develop diabetes.', 'Image credit: PD-US Over 3,000 years ago, the ancient Egyptians mentioned a condition that appears to have been type 1 diabetes.', 'It featured excessive urination, thirst, and weight loss.', 'The writers recommended following a diet of whole grains to reduce the symptoms.', 'In ancient India, people discovered that they could use ants to test for diabetes by presenting urine to them.', 'If the ants came to the urine, this was a sign that it contained high sugar levels.', 'They called the condition madhumeha, meaning honey urine.', 'During the third century B.C.E., Apollonius of Memphis mentioned the term “diabetes,” which may have been its earliest reference.', 'In time, Greek physicians also distinguished between diabetes mellitus and diabetes insipidus.', 'Diabetes insipidus has no link with diabetes mellitus.', 'While it also leads to thirst and urination, it does not affect the body’s production or use of insulin.', 'Diabetes insipidus results from a problem with a hormone called vasopressin that the pituitary gland produces.', 'The ancient Roman doctor Galen mentioned diabetes but noted that he had only ever seen two people with it, which suggests that it was relatively rare in those days.', 'By the fifth century C.E., people in India and China had worked out that there was a difference between type 1 and type 2 diabetes.', 'They noted that type 2 diabetes was more common in heavy, wealthy people than in other people.', 'At that time, this might have implied that these individuals ate more than other people and were less active.', 'Nowadays, the ready supply of processed food has weakened the association between wealth and eating more, but obesity, diet, and a lack of exercise are still risk factors for type 2 diabetes.', 'The term diabetes mellitus comes from the Greek word “diabetes” (to siphon or pass through) and the Latin word “mellitus” (honey or sweet).', 'In the Middle Ages, people believed that diabetes was a disease of the kidneys, but an English doctor in the late 18th century found that it occurred in people who had experienced an injury to the pancreas.', 'In 1776, Matthew Dobson confirmed that the urine of people with diabetes could have a sweet taste.', 'According to an article that the journal Medical Observations and Enquiries published, he measured the glucose in urine and found that it was high in people with diabetes.', 'Dobson also noted that diabetes could be fatal in some people but chronic in others, further clarifying the differences between type 1 and type 2.', 'By the early 19th century, there were no statistics about how common diabetes was, there was no effective treatment, and people usually died within weeks to months of first showing symptoms.', 'Early treatments The early Greek physicians recommended treating diabetes with exercise, if possible, on horseback.', 'They believed that this activity would reduce the need for excessive urination.', 'Other treatment options have included: a “nonirritating” milk-and-carb diet, for example, milk with rice and starchy, gummy foods “to thicken the blood and supply salts” or milk and barley water boiled with bread\\n\\npowders of fenugreek, lupin, and wormseed\\n\\nnarcotics, such as opium\\n\\nfoods that are “easy of digestion,” such as veal and mutton\\n\\nrancid animal food\\n\\ntobacco\\n\\ngreen vegetables\\n\\na carb-free diet\\n\\nfasting One doctor recommended a diet consisting of 65 percent fat, 32 percent protein, and 3 percent carbohydrate.', 'However, he advised avoiding fruits and garden produce.', 'Various experts have also recommended several chemicals and drugs, including ammonium sulfide, digitalis, magnesia, chalk, lithium salts, and potassium salts.', 'Doctors did not always agree on which diet or drugs to use as a treatment.', 'Some also recommended lifestyle measures, such as: exercising\\n\\nwearing warm clothing\\n\\ntaking baths, including cold baths and Turkish baths\\n\\navoiding stress\\n\\nwearing flannel or silk near the skin\\n\\ngetting massages These ways of managing diabetes did not prove particularly effective, and people with this condition experienced severe health problems.', 'The pancreas, insulin, and insulin resistance Share on Pinterest Sir Frederick Grant Banting (pictured), alongside Charles Herbert Best, demonstrated the reversal of diabetes in a dog using insulin in 1921.', 'Image credit: Wellcome images In 1889, Joseph von Mering and Oskar Minkowski found that removing the pancreas from dogs led them to develop diabetes and die shortly afterward.', 'This discovery helped scientists understand the role of the pancreas in regulating blood sugar levels.', 'In 1910, Sir Edward Albert Sharpey-Schafer proposed that diabetes developed when there was a lack of a particular chemical that the pancreas produced.', 'He called it insulin, meaning island, because the cells in the islets of Langerhans in the pancreas produce it.', 'In 1921, Frederick Banting and Charles Best introduced an extract of pancreatic islet cells from healthy dogs into dogs with diabetes.', 'Doing this reversed diabetes and marked the discovery of the hormone insulin.', 'They worked with two other scientists to purify insulin that they took from the pancreas of cows and produce the first treatment for diabetes.', 'In January 1922, 14-year-old Leonard Thompson was the first person to receive an injection of insulin to treat diabetes.', 'Thompson lived another 13 years with the condition and eventually died of pneumonia.', 'Understanding insulin resistance In 1936, Sir Harold Percival Himsworth published research that differentiated between type 1 and type 2 diabetes.', 'He theorized that many people had insulin resistance rather than insulin deficiency.', 'Insulin resistance is one factor that leads to type 2 diabetes.', 'When a person has insulin resistance, their body cells lose their sensitivity to insulin and are not able to take in glucose.', 'In response, the pancreas increases its output of insulin.', 'As this continues to happen, it puts stress on the pancreas, resulting in damage to this organ.', 'Modern treatment People with type 1 diabetes and some people with type 2 diabetes need to use insulin every day.', 'People continued to use injectable animal-based insulin for many years, but recent years have seen further advances in treatment.', 'These include the introduction of insulin analogs and the development of new ways to deliver insulin.', 'Both of these factors have made diabetes treatment more effective.', 'Human insulin In 1978, scientists created the first human-based insulin, which they named Humulin.', 'Humulin is identical in structure to human insulin.', 'Lispro, the first short-acting insulin, appeared on the market in 1996.', 'Lispro begins to work about 15 minutes after injection and keeps working for 2–4 hours.', 'Long-acting insulins, such as insulin glargine, take longer to absorb and remain active for up to 24 hours.', 'People who use insulin tend to combine long- and short-acting types.', 'The long-acting dose works throughout the day, while the short-acting dose boosts insulin levels around mealtimes.', 'Insulin delivery systems Share on Pinterest Nowadays, it is normal for people to manage diabetes at home.', 'Over time, not only have new forms of insulin become available, but there are also new methods of delivery.', 'In the 1980s, the first blood glucose monitors became available for home use, providing an accurate way to monitor blood sugar.', 'People who use insulin have to measure their glucose levels to determine how much insulin they need and how well their treatment is working.', 'In 1986, the insulin pen delivery system appeared.', 'These prefilled syringes, which come in specific measures, are a safe and convenient way of delivering the required dose of insulin.', 'The 1990s saw the invention of external insulin pumps, which, with correct use, can provide: better results\\n\\nmore flexibility\\n\\neasier treatment management These and other inventions help people manage their condition themselves.', 'By increasing their awareness and skills, people can take more control over their health and feel more confident that they are managing their condition.', 'Non-insulin treatment Not everyone with type 2 diabetes uses insulin.', 'Research has increasingly shown that a healthful diet is crucial for preventing and managing type 2 diabetes.', 'Ongoing research is investigating the most appropriate diet to follow and the role of other lifestyle factors, such as cigarette smoking, stress, and sleep.', 'Non-insulin medications A number of non-insulin therapies for diabetes emerged during the 20th century.', 'People can take each of these by mouth.', 'They include: Metformin: The discovery of metformin stemmed from the use of Galega officinalis (also known as goat’s rue or French lilac) as a medieval treatment for diabetes.', 'Metformin is a biguanide.', 'Scientists developed several biguanides during the 19th century, but they either had severe side effects or did not reach the market.', 'Metformin became available in the United States in 1995.', 'Sulfonylureas: These contain a type of chemical called sulfonamides, some of which can reduce blood sugar.', 'Carbutamide became available in 1955, and since then, other sulfonylureas have appeared.', 'Pramlintide: Doctors sometimes prescribe this drug for people with type 1 diabetes to slow the rate at which the stomach empties, reduce glucagon secretions from the pancreas, and help a person feel full.', 'In this way, it can help with weight loss and reduce the amount of insulin that a person needs.', 'Sodium-glucose cotransporter 2 (SGLT2) inhibitors: These reduce blood glucose independently of insulin by decreasing the amount of glucose that the body absorbs.', 'They can also help lower blood pressure and body weight.', 'Current guidelines recommend that doctors prescribe them for people with type 2 diabetes who have a risk of atherosclerotic cardiovascular disease.', 'The Food and Drug Administration (FDA) have not approved them for the treatment of type 1 diabetes.', 'Glucagon-like peptide 1 (GLP-1) receptor inhibitors: These can reduce glucose levels in the body and lower the risk of cardiovascular disease in people with type 2 diabetes who are at high risk of a heart attack or stroke.', 'The FDA have not approved them for treating type 1 diabetes.', 'People can take these medications by mouth or in the form of an injection.', 'Since 1996, a range of oral medications have emerged that can treat diabetes and its complications.', 'Newer medications include both oral and injectable medicines.', 'Future possibilities Scientists are looking into various options that may help people with diabetes in the future.', 'Immunotherapy: The American Diabetes Association (ADA) have funded several research projects, including one that is attempting to identify the possible trigger for type 1 diabetes, which doctors believe relates to a problem with the immune system.', 'Artificial pancreas: Another emerging treatment option is the artificial pancreas.', 'The device, which some refer to as closed-loop glucose control, involves using an external pump and continuous glucose monitoring to deliver insulin in a single system.', 'It uses a control algorithm and automatically adjusts the dose according to readings from sensors.', 'In 2018, researchers writing in the BMJ concluded that the artificial pancreas is “efficacious and safe” for people with type 1 diabetes to use.']\n"
          ],
          "name": "stdout"
        }
      ]
    },
    {
      "cell_type": "code",
      "metadata": {
        "id": "XyiHZgHxBdn5"
      },
      "source": [
        "#Function  to return random greeeting response to a user greeting\n",
        "\n",
        "def greeting_response(text):\n",
        "  text=text.lower()\n",
        "  #Bots greeting response\n",
        "  bot_greetings=['howdy','hi','hey','hello','hola']\n",
        "  #user greeting\n",
        "  user_greeting=['hi','hey','hello','hola','greetings','wasup']\n",
        "\n",
        "\n",
        "  for word in text.split():\n",
        "    if word in user_greeting:\n",
        "      return random.choice(bot_greetings)\n"
      ],
      "execution_count": 10,
      "outputs": []
    },
    {
      "cell_type": "code",
      "metadata": {
        "id": "tC-rLBb8Fwh_"
      },
      "source": [
        "def index_sort(list_var):\n",
        "  length=len(list_var)\n",
        "  list_index=list(range(0,length))\n",
        "\n",
        "  x=list_var\n",
        "  for i in range(length):\n",
        "    for j in range(length):\n",
        "      if x[list_index[i]] > x[list_index[j]]:\n",
        "        #swap\n",
        "        temp=list_index[i]\n",
        "        list_index[i]=list_index[j]\n",
        "        list_index[j]=temp\n",
        "  return list_index"
      ],
      "execution_count": 11,
      "outputs": []
    },
    {
      "cell_type": "code",
      "metadata": {
        "id": "uKfC4_qSC3BZ"
      },
      "source": [
        "#create a bot response\n",
        "def bot_response(user_input):\n",
        "  user_input=user_input.lower()\n",
        "  sentence_list.append(user_input)\n",
        "  bot_response=' '\n",
        "  cm=CountVectorizer().fit_transform(sentence_list)\n",
        "  similarity_scores=cosine_similarity(cm[-1],cm)\n",
        "  similarity_scores_list=similarity_scores.flatten()\n",
        "  index=index_sort(similarity_scores_list)\n",
        "  index=index[1:]\n",
        "  response_flag=0\n",
        "\n",
        "\n",
        "  j=0\n",
        "  for i in range(len(index)):\n",
        "    if similarity_scores_list[index[i]] > 0.0:\n",
        "      bot_response = bot_response+' '+sentence_list[index[i]]\n",
        "      response_flag= 1\n",
        "      j = j+1\n",
        "    if j > 2:\n",
        "      break\n",
        "  if response_flag == 0:\n",
        "    bot_response = bot_response+' '+\"i am sorry i dont understand.\"\n",
        "  sentence_list.remove(user_input)\n",
        "  return bot_response"
      ],
      "execution_count": 12,
      "outputs": []
    },
    {
      "cell_type": "code",
      "metadata": {
        "id": "KfBrKAU0JkXc",
        "colab": {
          "base_uri": "https://localhost:8080/"
        },
        "outputId": "14017ace-88d0-4520-c72f-ad8246018eb2"
      },
      "source": [
        "#start chat\n",
        "\n",
        "print('Doc Bot: I am Dr.Bot.I will answer your queries about Diabetics. If u want to exit,type bye.')\n",
        "\n",
        "exit_list= ['exit','see u later','bye','quit','break']\n",
        "while(True):\n",
        "  user_input=input()\n",
        "  if user_input.lower() in exit_list:\n",
        "    print('Dr.Bot: CHat with u later!')\n",
        "    break\n",
        "  else:\n",
        "    if greeting_response(user_input) != None:\n",
        "      print('Dr.Bot: ' + greeting_response(user_input))\n",
        "    else:\n",
        "      print('Dr.Bot: '+ bot_response(user_input))\n"
      ],
      "execution_count": 13,
      "outputs": [
        {
          "output_type": "stream",
          "text": [
            "Doc Bot: I am Dr.Bot.I will answer your queries about Diabetics. If u want to exit,type bye.\n",
            "hi\n",
            "Dr.Bot: howdy\n",
            "wasup\n",
            "Dr.Bot: hi\n",
            "Surya\n",
            "Dr.Bot:   i am sorry i dont understand.\n",
            "diabetics\n",
            "Dr.Bot:   i am sorry i dont understand.\n",
            "green\n",
            "Dr.Bot:   Other treatment options have included: a “nonirritating” milk-and-carb diet, for example, milk with rice and starchy, gummy foods “to thicken the blood and supply salts” or milk and barley water boiled with bread\n",
            "\n",
            "powders of fenugreek, lupin, and wormseed\n",
            "\n",
            "narcotics, such as opium\n",
            "\n",
            "foods that are “easy of digestion,” such as veal and mutton\n",
            "\n",
            "rancid animal food\n",
            "\n",
            "tobacco\n",
            "\n",
            "green vegetables\n",
            "\n",
            "a carb-free diet\n",
            "\n",
            "fasting One doctor recommended a diet consisting of 65 percent fat, 32 percent protein, and 3 percent carbohydrate.\n",
            "fat\n",
            "Dr.Bot:   Other treatment options have included: a “nonirritating” milk-and-carb diet, for example, milk with rice and starchy, gummy foods “to thicken the blood and supply salts” or milk and barley water boiled with bread\n",
            "\n",
            "powders of fenugreek, lupin, and wormseed\n",
            "\n",
            "narcotics, such as opium\n",
            "\n",
            "foods that are “easy of digestion,” such as veal and mutton\n",
            "\n",
            "rancid animal food\n",
            "\n",
            "tobacco\n",
            "\n",
            "green vegetables\n",
            "\n",
            "a carb-free diet\n",
            "\n",
            "fasting One doctor recommended a diet consisting of 65 percent fat, 32 percent protein, and 3 percent carbohydrate.\n",
            "bye\n",
            "Dr.Bot: CHat with u later!\n"
          ],
          "name": "stdout"
        }
      ]
    },
    {
      "cell_type": "code",
      "metadata": {
        "id": "BBUzZapDAOj2"
      },
      "source": [
        "e\n"
      ],
      "execution_count": null,
      "outputs": []
    }
  ]
}