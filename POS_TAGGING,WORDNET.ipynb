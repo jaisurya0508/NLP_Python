{
 "cells": [
  {
   "cell_type": "markdown",
   "metadata": {},
   "source": [
    "### part of speech"
   ]
  },
  {
   "cell_type": "code",
   "execution_count": 1,
   "metadata": {},
   "outputs": [
    {
     "name": "stdout",
     "output_type": "stream",
     "text": [
      "After Split: ['learn', 'php', 'from', 'guru99', 'and', 'make', 'study', 'easy']\n",
      "After Token: [('learn', 'JJ'), ('php', 'NN'), ('from', 'IN'), ('guru99', 'NN'), ('and', 'CC'), ('make', 'VB'), ('study', 'NN'), ('easy', 'JJ')]\n",
      "After Regex: chunk.RegexpParser with 1 stages:\n",
      "RegexpChunkParser with 1 rules:\n",
      "       <ChunkRule: '<NN.?>*<VBD.?>*<JJ.?>*<CC>?'>\n",
      "After Chunking (S\n",
      "  (mychunk learn/JJ)\n",
      "  (mychunk php/NN)\n",
      "  from/IN\n",
      "  (mychunk guru99/NN and/CC)\n",
      "  make/VB\n",
      "  (mychunk study/NN easy/JJ))\n"
     ]
    }
   ],
   "source": [
    "from nltk import pos_tag\n",
    "from nltk import RegexpParser\n",
    "text =\"learn php from guru99 and make study easy\".split()\n",
    "print(\"After Split:\",text)\n",
    "tokens_tag = pos_tag(text)\n",
    "print(\"After Token:\",tokens_tag)\n",
    "patterns= \"\"\"mychunk:{<NN.?>*<VBD.?>*<JJ.?>*<CC>?}\"\"\"\n",
    "chunker = RegexpParser(patterns)\n",
    "print(\"After Regex:\",chunker)\n",
    "output = chunker.parse(tokens_tag)\n",
    "print(\"After Chunking\",output)"
   ]
  },
  {
   "cell_type": "code",
   "execution_count": 7,
   "metadata": {},
   "outputs": [
    {
     "name": "stdout",
     "output_type": "stream",
     "text": [
      "['learn', 'php', 'from', 'guru99']\n",
      "[('learn', 'JJ'), ('php', 'NN'), ('from', 'IN'), ('guru99', 'NN')]\n",
      "(S (NP learn/JJ php/NN) from/IN (NP guru99/NN))\n"
     ]
    }
   ],
   "source": [
    "import nltk\n",
    "text = \"learn php from guru99\"\n",
    "tokens = nltk.word_tokenize(text)\n",
    "print(tokens)\n",
    "tag = nltk.pos_tag(tokens)\n",
    "print(tag)\n",
    "grammar = \"NP: {<DT>?<JJ>*<NN>}\"\n",
    "cp  =nltk.RegexpParser(grammar)\n",
    "result = cp.parse(tag)\n",
    "print(result)\n",
    "result.draw()    # It will draw the pattern graphically which can be seen in Noun Phrase chunking "
   ]
  },
  {
   "cell_type": "markdown",
   "metadata": {},
   "source": [
    "### Wordnet"
   ]
  },
  {
   "cell_type": "markdown",
   "metadata": {},
   "source": [
    "It can be used to find the meaning of words, synonym or antonym\n",
    "\n",
    "Synset: It is also called as synonym set or collection of synonym words"
   ]
  },
  {
   "cell_type": "markdown",
   "metadata": {},
   "source": [
    "### synsets"
   ]
  },
  {
   "cell_type": "code",
   "execution_count": 3,
   "metadata": {},
   "outputs": [
    {
     "name": "stdout",
     "output_type": "stream",
     "text": [
      "[Synset('dog.n.01'), Synset('frump.n.01'), Synset('dog.n.03'), Synset('cad.n.01'), Synset('frank.n.02'), Synset('pawl.n.01'), Synset('andiron.n.01'), Synset('chase.v.01')]\n"
     ]
    }
   ],
   "source": [
    "from nltk.corpus import wordnet\n",
    "syns = wordnet.synsets(\"dog\")\n",
    "print(syns)"
   ]
  },
  {
   "cell_type": "markdown",
   "metadata": {},
   "source": [
    "### Lexical Relation"
   ]
  },
  {
   "cell_type": "markdown",
   "metadata": {},
   "source": [
    "Lexical Relations: These are semantic relations which are reciprocated. \n",
    "    \n",
    "If there is a relationship between {x1,x2,...xn} and {y1,y2,...yn} then there is also relation between {y1,y2,...yn} \n",
    "and {x1,x2,...xn}. \n",
    "\n",
    " For example Synonym is the opposite of antonym or hypernyms and hyponym are type of lexical concept."
   ]
  },
  {
   "cell_type": "code",
   "execution_count": 6,
   "metadata": {},
   "outputs": [
    {
     "name": "stdout",
     "output_type": "stream",
     "text": [
      "{'active_agent', 'active'}\n",
      "set()\n",
      "{'active_voice', 'active_agent', 'active'}\n",
      "{'passive_voice'}\n",
      "{'active_voice', 'active_agent', 'active'}\n",
      "{'passive_voice'}\n",
      "{'active_voice', 'active_agent', 'active'}\n",
      "{'passive_voice', 'inactive'}\n",
      "{'active_voice', 'combat-ready', 'active_agent', 'fighting', 'active'}\n",
      "{'passive_voice', 'inactive'}\n",
      "{'active_voice', 'combat-ready', 'active_agent', 'fighting', 'active'}\n",
      "{'passive_voice', 'passive', 'inactive'}\n",
      "{'active_voice', 'combat-ready', 'active_agent', 'participating', 'fighting', 'active'}\n",
      "{'passive_voice', 'passive', 'inactive'}\n",
      "{'active_voice', 'combat-ready', 'active_agent', 'participating', 'fighting', 'active'}\n",
      "{'passive_voice', 'passive', 'inactive'}\n",
      "{'active_voice', 'combat-ready', 'active_agent', 'participating', 'fighting', 'active'}\n",
      "{'passive_voice', 'passive', 'inactive'}\n",
      "{'active_voice', 'combat-ready', 'active_agent', 'participating', 'fighting', 'active'}\n",
      "{'passive_voice', 'passive', 'inactive'}\n",
      "{'active_voice', 'combat-ready', 'active_agent', 'participating', 'fighting', 'alive', 'active'}\n",
      "{'passive_voice', 'passive', 'inactive'}\n",
      "{'active_voice', 'combat-ready', 'active_agent', 'participating', 'fighting', 'alive', 'active'}\n",
      "{'passive_voice', 'quiet', 'passive', 'inactive'}\n",
      "{'active_voice', 'combat-ready', 'active_agent', 'participating', 'fighting', 'alive', 'active'}\n",
      "{'passive_voice', 'quiet', 'passive', 'inactive'}\n",
      "{'active_voice', 'combat-ready', 'active_agent', 'dynamic', 'participating', 'fighting', 'alive', 'active'}\n",
      "{'quiet', 'inactive', 'passive_voice', 'stative', 'passive'}\n",
      "{'active_voice', 'combat-ready', 'active_agent', 'dynamic', 'participating', 'fighting', 'alive', 'active'}\n",
      "{'quiet', 'extinct', 'inactive', 'passive_voice', 'stative', 'passive'}\n",
      "{'active_voice', 'combat-ready', 'active_agent', 'dynamic', 'participating', 'fighting', 'alive', 'active'}\n",
      "{'quiet', 'dormant', 'extinct', 'inactive', 'passive_voice', 'stative', 'passive'}\n",
      "{'active_voice', 'combat-ready', 'active_agent', 'dynamic', 'participating', 'fighting', 'alive', 'active'}\n",
      "{'quiet', 'dormant', 'extinct', 'inactive', 'passive_voice', 'stative', 'passive'}\n"
     ]
    }
   ],
   "source": [
    "from nltk.corpus import wordnet\n",
    "synonyms = []\n",
    "antonyms = []\n",
    "for syn in wordnet.synsets(\"active\"):\n",
    "    for l in syn.lemmas():\n",
    "        synonyms.append(l.name())\n",
    "        if l.antonyms():\n",
    "            antonyms.append(l.antonyms()[0].name())\n",
    "\n",
    "    print(set(synonyms))\n",
    "    print(set(antonyms))"
   ]
  },
  {
   "cell_type": "code",
   "execution_count": null,
   "metadata": {},
   "outputs": [],
   "source": []
  }
 ],
 "metadata": {
  "kernelspec": {
   "display_name": "Python 3",
   "language": "python",
   "name": "python3"
  },
  "language_info": {
   "codemirror_mode": {
    "name": "ipython",
    "version": 3
   },
   "file_extension": ".py",
   "mimetype": "text/x-python",
   "name": "python",
   "nbconvert_exporter": "python",
   "pygments_lexer": "ipython3",
   "version": "3.6.5"
  }
 },
 "nbformat": 4,
 "nbformat_minor": 2
}
